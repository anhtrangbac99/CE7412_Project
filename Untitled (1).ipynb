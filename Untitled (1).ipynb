{
  "cells": [
    {
      "cell_type": "code",
      "source": [
        "from google.colab import drive\n",
        "drive.mount('/content/drive')"
      ],
      "metadata": {
        "colab": {
          "base_uri": "https://localhost:8080/"
        },
        "id": "biHArOXkJygB",
        "outputId": "47495965-9b1b-4c9e-c7df-5aa8191f135b"
      },
      "id": "biHArOXkJygB",
      "execution_count": 1,
      "outputs": [
        {
          "output_type": "stream",
          "name": "stdout",
          "text": [
            "Drive already mounted at /content/drive; to attempt to forcibly remount, call drive.mount(\"/content/drive\", force_remount=True).\n"
          ]
        }
      ]
    },
    {
      "cell_type": "code",
      "source": [
        "cd /content/drive/MyDrive/CE7412-Project-main"
      ],
      "metadata": {
        "colab": {
          "base_uri": "https://localhost:8080/"
        },
        "id": "sUH3hw8SJ3NU",
        "outputId": "b619936e-9bec-4a7d-df88-325837e1471b"
      },
      "id": "sUH3hw8SJ3NU",
      "execution_count": 2,
      "outputs": [
        {
          "output_type": "stream",
          "name": "stdout",
          "text": [
            "/content/drive/MyDrive/CE7412-Project-main\n"
          ]
        }
      ]
    },
    {
      "cell_type": "code",
      "execution_count": 3,
      "id": "391deeca",
      "metadata": {
        "id": "391deeca"
      },
      "outputs": [],
      "source": [
        "import torch\n",
        "import torch.nn as nn\n",
        "from torch.utils.data import Dataset, DataLoader"
      ]
    },
    {
      "cell_type": "code",
      "execution_count": 4,
      "id": "10d26069",
      "metadata": {
        "id": "10d26069"
      },
      "outputs": [],
      "source": [
        "import pandas as pd"
      ]
    },
    {
      "cell_type": "code",
      "execution_count": 5,
      "id": "91cc8ebf",
      "metadata": {
        "id": "91cc8ebf"
      },
      "outputs": [],
      "source": [
        "import os"
      ]
    },
    {
      "cell_type": "code",
      "execution_count": 6,
      "id": "f99470a9",
      "metadata": {
        "id": "f99470a9"
      },
      "outputs": [],
      "source": [
        "batch_size = 4\n",
        "device = 'cuda:0'"
      ]
    },
    {
      "cell_type": "code",
      "source": [
        "os.environ['CUDA_LAUNCH_BLOCKING'] = \"1\""
      ],
      "metadata": {
        "id": "_CQUBLfSUyyh"
      },
      "id": "_CQUBLfSUyyh",
      "execution_count": 7,
      "outputs": []
    },
    {
      "cell_type": "markdown",
      "id": "94c0d113",
      "metadata": {
        "id": "94c0d113"
      },
      "source": [
        "# Conv + LSTM "
      ]
    },
    {
      "cell_type": "code",
      "execution_count": 8,
      "id": "cf2e7bb5",
      "metadata": {
        "id": "cf2e7bb5"
      },
      "outputs": [],
      "source": [
        "class ConvLSTM(nn.Module):\n",
        "    def __init__(self, n_features, n_hidden, seq_len, n_layers):\n",
        "        super(ConvLSTM, self).__init__()\n",
        "        self.n_hidden = n_hidden\n",
        "        self.seq_len = seq_len\n",
        "        self.n_layers = n_layers\n",
        "        self.c1 = nn.Conv1d(in_channels=1, out_channels=1, kernel_size = 2, stride = 1) # Add a 1D CNN layer\n",
        "        self.lstm = nn.LSTM(\n",
        "            input_size=n_features,\n",
        "            hidden_size=n_hidden,\n",
        "            num_layers=n_layers\n",
        "        )\n",
        "        self.linear = nn.Linear(in_features=n_hidden, out_features=1)\n",
        "    def reset_hidden_state(self):\n",
        "        self.hidden = (\n",
        "            torch.zeros(self.n_layers, self.seq_len-1, self.n_hidden),\n",
        "            torch.zeros(self.n_layers, self.seq_len-1, self.n_hidden)\n",
        "        )\n",
        "    def forward(self, sequences):\n",
        "        sequences = self.c1(sequences.view(len(sequences), 1, -1))\n",
        "        self.hidden = self.reset_hidden_state()\n",
        "        lstm_out, self.hidden = self.lstm(\n",
        "            sequences.view(len(sequences), self.seq_len-1, -1),\n",
        "            self.hidden\n",
        "        )\n",
        "        last_time_step = lstm_out.view(self.seq_len-1, len(sequences), self.n_hidden)[-1]\n",
        "        y_pred = self.linear(last_time_step)\n",
        "        outputs.squeeze(1)\n",
        "        return y_pred"
      ]
    },
    {
      "cell_type": "markdown",
      "id": "2c0566ab",
      "metadata": {
        "id": "2c0566ab"
      },
      "source": [
        "# Read Data"
      ]
    },
    {
      "cell_type": "code",
      "source": [
        "import pickle\n",
        "import numpy as np"
      ],
      "metadata": {
        "id": "31Yl3RYJbqpr"
      },
      "id": "31Yl3RYJbqpr",
      "execution_count": 9,
      "outputs": []
    },
    {
      "cell_type": "code",
      "execution_count": 11,
      "id": "572549c2",
      "metadata": {
        "colab": {
          "base_uri": "https://localhost:8080/"
        },
        "id": "572549c2",
        "outputId": "913c4fb7-6a5d-4d0b-aa68-67a5ba15042b"
      },
      "outputs": [
        {
          "output_type": "stream",
          "name": "stderr",
          "text": [
            "<ipython-input-11-e6c386b3e01d>:6: VisibleDeprecationWarning: Creating an ndarray from ragged nested sequences (which is a list-or-tuple of lists-or-tuples-or ndarrays with different lengths or shapes) is deprecated. If you meant to do this, you must specify 'dtype=object' when creating the ndarray.\n",
            "  virus_data.append(np.array([idx,np.array(i)]))\n",
            "<ipython-input-11-e6c386b3e01d>:6: VisibleDeprecationWarning: Creating an ndarray from ragged nested sequences (which is a list-or-tuple of lists-or-tuples-or ndarrays with different lengths or shapes) is deprecated. If you meant to do this, you must specify 'dtype=object' when creating the ndarray.\n",
            "  virus_data.append(np.array([idx,np.array(i)]))\n",
            "<ipython-input-11-e6c386b3e01d>:6: VisibleDeprecationWarning: Creating an ndarray from ragged nested sequences (which is a list-or-tuple of lists-or-tuples-or ndarrays with different lengths or shapes) is deprecated. If you meant to do this, you must specify 'dtype=object' when creating the ndarray.\n",
            "  virus_data.append(np.array([idx,np.array(i)]))\n",
            "<ipython-input-11-e6c386b3e01d>:6: VisibleDeprecationWarning: Creating an ndarray from ragged nested sequences (which is a list-or-tuple of lists-or-tuples-or ndarrays with different lengths or shapes) is deprecated. If you meant to do this, you must specify 'dtype=object' when creating the ndarray.\n",
            "  virus_data.append(np.array([idx,np.array(i)]))\n",
            "<ipython-input-11-e6c386b3e01d>:6: VisibleDeprecationWarning: Creating an ndarray from ragged nested sequences (which is a list-or-tuple of lists-or-tuples-or ndarrays with different lengths or shapes) is deprecated. If you meant to do this, you must specify 'dtype=object' when creating the ndarray.\n",
            "  virus_data.append(np.array([idx,np.array(i)]))\n",
            "<ipython-input-11-e6c386b3e01d>:6: VisibleDeprecationWarning: Creating an ndarray from ragged nested sequences (which is a list-or-tuple of lists-or-tuples-or ndarrays with different lengths or shapes) is deprecated. If you meant to do this, you must specify 'dtype=object' when creating the ndarray.\n",
            "  virus_data.append(np.array([idx,np.array(i)]))\n"
          ]
        }
      ],
      "source": [
        "#train data\n",
        "virus_data = []\n",
        "for idx, file in enumerate(os.listdir('data/training/')):\n",
        "    array = pd.read_pickle(os.path.join('data/training',file))\n",
        "    for i in array:\n",
        "        virus_data.append(np.array([idx,np.array(i)]))\n",
        "\n",
        "#val data\n",
        "\n",
        "# virus_data_val = []\n",
        "# for idx, file in enumerate(os.listdir('data/validation/')):\n",
        "#     array = pd.read_pickle(os.path.join('data/validation',file))\n",
        "#     for i in array:\n",
        "#         virus_data_val.append([idx,i])\n",
        "\n",
        "# encodings_ = []\n",
        "# labels_ = []\n",
        "# for label, fasta_filename in enumerate(os.listdir('data/training/')):\n",
        "#     with open(os.path.join('data/training',fasta_filename), 'rb') as pkfile:\n",
        "#         file_encodings = pickle.load(pkfile)\n",
        "#         encodings_.extend([np.array(enc) for enc in file_encodings])  # Convert nested lists to NumPy arrays\n",
        "#         labels_.extend([label] * len(file_encodings))\n",
        "#         del file_encodings\n",
        "\n",
        "# encodings = np.array(encodings_, dtype=object)\n",
        "# labels = np.array(labels_)\n",
        "# del encodings_\n",
        "# del labels_\n",
        "# # Find the maximum sequence length\n",
        "# max_seq_len = max([enc.shape[0] for enc in encodings])\n",
        "\n",
        "# # Pad encodings with zeros to create tensors\n",
        "# encodings_padded = []\n",
        "# for enc in encodings:\n",
        "#     pad_rows = max_seq_len - enc.shape[0]\n",
        "#     enc_padded = np.pad(enc, (0, pad_rows), mode='constant', constant_values=0)\n",
        "#     encodings_padded.append(enc_padded)\n",
        "# del encodings\n",
        "# encodings = np.stack(encodings_padded)\n",
        "# del encodings_padded"
      ]
    },
    {
      "cell_type": "code",
      "source": [
        "virus_data = np.array(virus_data)"
      ],
      "metadata": {
        "id": "hhrD1nSah1TW"
      },
      "id": "hhrD1nSah1TW",
      "execution_count": 21,
      "outputs": []
    },
    {
      "cell_type": "code",
      "source": [
        "max_seq_len = max([enc.shape[0] for enc in virus_data[...,1]])\n",
        "\n",
        "# Pad encodings with zeros to create tensors\n",
        "encodings_padded = []\n",
        "for enc in  virus_data[...,1]:\n",
        "    pad_rows = max_seq_len - enc.shape[0]\n",
        "    enc_padded = np.pad(enc, (0, pad_rows), mode='constant', constant_values=0)\n",
        "    encodings_padded.append(enc_padded)\n"
      ],
      "metadata": {
        "id": "xRI7xrMgiGj-"
      },
      "id": "xRI7xrMgiGj-",
      "execution_count": null,
      "outputs": []
    },
    {
      "cell_type": "code",
      "execution_count": null,
      "id": "c79758ce",
      "metadata": {
        "id": "c79758ce"
      },
      "outputs": [],
      "source": [
        "def normalize_encodings(encodings):\n",
        "    mean = np.mean(encodings)\n",
        "    std = np.std(encodings)\n",
        "    return (encodings - mean) / std\n",
        "\n",
        "encodings = normalize_encodings(encodings_padded)"
      ]
    },
    {
      "cell_type": "markdown",
      "id": "ec75020d",
      "metadata": {
        "id": "ec75020d"
      },
      "source": [
        "# Dataset"
      ]
    },
    {
      "cell_type": "code",
      "execution_count": 13,
      "id": "d2f4ba18",
      "metadata": {
        "id": "d2f4ba18"
      },
      "outputs": [],
      "source": [
        "class VirusDataset(Dataset):\n",
        "    def __init__(self,virus_data):\n",
        "        self.data = [i[1] for i in virus_data]\n",
        "        self.label = [i[0] for i in virus_data]\n",
        "    \n",
        "    def __len__(self):\n",
        "        return len(self.data)\n",
        "    \n",
        "    def __getitem__(self,idx):\n",
        "        return torch.Tensor(self.data[idx]),self.label[idx]"
      ]
    },
    {
      "cell_type": "code",
      "execution_count": 14,
      "id": "d881ceb5",
      "metadata": {
        "id": "d881ceb5"
      },
      "outputs": [],
      "source": [
        "train_dataset = VirusDataset(virus_data)\n",
        "# val_dataset = VirusDataset(virus_data_val)"
      ]
    },
    {
      "cell_type": "code",
      "execution_count": 15,
      "id": "ab49adf7",
      "metadata": {
        "id": "ab49adf7"
      },
      "outputs": [],
      "source": [
        "train_loader = DataLoader(train_dataset, batch_size=batch_size,shuffle=True)\n",
        "# val_loader = DataLoader(val_dataset, batch_size=batch_size,shuffle=True)"
      ]
    },
    {
      "cell_type": "markdown",
      "id": "2819c204",
      "metadata": {
        "id": "2819c204"
      },
      "source": [
        "# Training"
      ]
    },
    {
      "cell_type": "code",
      "execution_count": 20,
      "id": "03478e44",
      "metadata": {
        "id": "03478e44"
      },
      "outputs": [],
      "source": [
        "model = ConvLSTM(n_features = 1 , n_hidden = 64, seq_len = max_len, n_layers = 2)"
      ]
    },
    {
      "cell_type": "code",
      "execution_count": 21,
      "id": "a5a3a0c7",
      "metadata": {
        "colab": {
          "base_uri": "https://localhost:8080/"
        },
        "id": "a5a3a0c7",
        "outputId": "2bcae891-fcd4-4e5f-8a9a-9cc70af16402"
      },
      "outputs": [
        {
          "output_type": "execute_result",
          "data": {
            "text/plain": [
              "ConvLSTM(\n",
              "  (c1): Conv1d(1, 1, kernel_size=(2,), stride=(1,))\n",
              "  (lstm): LSTM(1, 64, num_layers=2)\n",
              "  (linear): Linear(in_features=64, out_features=1, bias=True)\n",
              ")"
            ]
          },
          "metadata": {},
          "execution_count": 21
        }
      ],
      "source": [
        "model.to(device)"
      ]
    },
    {
      "cell_type": "code",
      "execution_count": 22,
      "id": "7e5aca18",
      "metadata": {
        "id": "7e5aca18"
      },
      "outputs": [],
      "source": [
        "learning_rate = 0.00001\n",
        "num_epochs = 20\n",
        "criterion = nn.BCELoss().to(device)\n",
        "optimizer = torch.optim.Adam(model.parameters(), lr=learning_rate)"
      ]
    },
    {
      "cell_type": "code",
      "execution_count": 35,
      "id": "91d7c735",
      "metadata": {
        "id": "91d7c735"
      },
      "outputs": [],
      "source": [
        "def train_epoch(model, dataloader, criterion, optimizer):\n",
        "    model.train()\n",
        "    running_loss = 0.0\n",
        "    correct_predictions = 0\n",
        "    total_predictions = 0\n",
        "\n",
        "    for inputs, targets in dataloader:\n",
        "        # Move tensors to the correct device\n",
        "        inputs = inputs.to(device)\n",
        "        targets = targets.type(torch.FloatTensor).to(device)\n",
        "\n",
        "        # Forward pass\n",
        "        outputs = model(inputs)\n",
        "        \n",
        "        # print(outputs.squeeze().shape)\n",
        "        # print(targets.shape)\n",
        "        loss = criterion(outputs, targets)\n",
        "\n",
        "        # Backward pass\n",
        "        optimizer.zero_grad()\n",
        "        loss.backward()\n",
        "        optimizer.step()\n",
        "\n",
        "        running_loss += loss.item()\n",
        "\n",
        "        # Calculate the number of correct predictions\n",
        "        _, predicted = torch.max(outputs, 1)\n",
        "        correct_predictions += (predicted == targets).sum().item()\n",
        "        total_predictions += targets.size(0)\n",
        "\n",
        "    average_loss = running_loss / len(dataloader)\n",
        "    accuracy = correct_predictions / total_predictions\n",
        "\n",
        "    return average_loss, accuracy"
      ]
    },
    {
      "cell_type": "code",
      "execution_count": 36,
      "id": "fab630eb",
      "metadata": {
        "colab": {
          "base_uri": "https://localhost:8080/",
          "height": 321
        },
        "id": "fab630eb",
        "outputId": "be044529-a2d7-4c53-dd45-14b62537365d"
      },
      "outputs": [
        {
          "output_type": "error",
          "ename": "IndexError",
          "evalue": "ignored",
          "traceback": [
            "\u001b[0;31m---------------------------------------------------------------------------\u001b[0m",
            "\u001b[0;31mIndexError\u001b[0m                                Traceback (most recent call last)",
            "\u001b[0;32m<ipython-input-36-258f2b0d37c1>\u001b[0m in \u001b[0;36m<cell line: 1>\u001b[0;34m()\u001b[0m\n\u001b[1;32m      1\u001b[0m \u001b[0;32mfor\u001b[0m \u001b[0mepoch\u001b[0m \u001b[0;32min\u001b[0m \u001b[0mrange\u001b[0m\u001b[0;34m(\u001b[0m\u001b[0mnum_epochs\u001b[0m\u001b[0;34m)\u001b[0m\u001b[0;34m:\u001b[0m\u001b[0;34m\u001b[0m\u001b[0;34m\u001b[0m\u001b[0m\n\u001b[0;32m----> 2\u001b[0;31m     \u001b[0mtrain_loss\u001b[0m\u001b[0;34m,\u001b[0m \u001b[0mtrain_accuracy\u001b[0m \u001b[0;34m=\u001b[0m \u001b[0mtrain_epoch\u001b[0m\u001b[0;34m(\u001b[0m\u001b[0mmodel\u001b[0m\u001b[0;34m,\u001b[0m \u001b[0mtrain_loader\u001b[0m\u001b[0;34m,\u001b[0m \u001b[0mcriterion\u001b[0m\u001b[0;34m,\u001b[0m \u001b[0moptimizer\u001b[0m\u001b[0;34m)\u001b[0m\u001b[0;34m\u001b[0m\u001b[0;34m\u001b[0m\u001b[0m\n\u001b[0m\u001b[1;32m      3\u001b[0m     \u001b[0mprint\u001b[0m\u001b[0;34m(\u001b[0m\u001b[0;34mf\"Epoch [{epoch + 1}/{num_epochs}], Loss: {train_loss:.4f}\"\u001b[0m\u001b[0;34m)\u001b[0m\u001b[0;34m\u001b[0m\u001b[0;34m\u001b[0m\u001b[0m\n",
            "\u001b[0;32m<ipython-input-35-111084efcdf6>\u001b[0m in \u001b[0;36mtrain_epoch\u001b[0;34m(model, dataloader, criterion, optimizer)\u001b[0m\n\u001b[1;32m     25\u001b[0m \u001b[0;34m\u001b[0m\u001b[0m\n\u001b[1;32m     26\u001b[0m         \u001b[0;31m# Calculate the number of correct predictions\u001b[0m\u001b[0;34m\u001b[0m\u001b[0;34m\u001b[0m\u001b[0m\n\u001b[0;32m---> 27\u001b[0;31m         \u001b[0m_\u001b[0m\u001b[0;34m,\u001b[0m \u001b[0mpredicted\u001b[0m \u001b[0;34m=\u001b[0m \u001b[0mtorch\u001b[0m\u001b[0;34m.\u001b[0m\u001b[0mmax\u001b[0m\u001b[0;34m(\u001b[0m\u001b[0moutputs\u001b[0m\u001b[0;34m,\u001b[0m \u001b[0;36m1\u001b[0m\u001b[0;34m)\u001b[0m\u001b[0;34m\u001b[0m\u001b[0;34m\u001b[0m\u001b[0m\n\u001b[0m\u001b[1;32m     28\u001b[0m         \u001b[0mcorrect_predictions\u001b[0m \u001b[0;34m+=\u001b[0m \u001b[0;34m(\u001b[0m\u001b[0mpredicted\u001b[0m \u001b[0;34m==\u001b[0m \u001b[0mtargets\u001b[0m\u001b[0;34m)\u001b[0m\u001b[0;34m.\u001b[0m\u001b[0msum\u001b[0m\u001b[0;34m(\u001b[0m\u001b[0;34m)\u001b[0m\u001b[0;34m.\u001b[0m\u001b[0mitem\u001b[0m\u001b[0;34m(\u001b[0m\u001b[0;34m)\u001b[0m\u001b[0;34m\u001b[0m\u001b[0;34m\u001b[0m\u001b[0m\n\u001b[1;32m     29\u001b[0m         \u001b[0mtotal_predictions\u001b[0m \u001b[0;34m+=\u001b[0m \u001b[0mtargets\u001b[0m\u001b[0;34m.\u001b[0m\u001b[0msize\u001b[0m\u001b[0;34m(\u001b[0m\u001b[0;36m0\u001b[0m\u001b[0;34m)\u001b[0m\u001b[0;34m\u001b[0m\u001b[0;34m\u001b[0m\u001b[0m\n",
            "\u001b[0;31mIndexError\u001b[0m: Dimension out of range (expected to be in range of [-1, 0], but got 1)"
          ]
        }
      ],
      "source": [
        "for epoch in range(num_epochs):\n",
        "    train_loss, train_accuracy = train_epoch(model, train_loader, criterion, optimizer)\n",
        "    print(f\"Epoch [{epoch + 1}/{num_epochs}], Loss: {train_loss:.4f}\")"
      ]
    },
    {
      "cell_type": "code",
      "source": [
        "for input,label in train_loader:\n",
        "  input = input.to(device)"
      ],
      "metadata": {
        "colab": {
          "base_uri": "https://localhost:8080/",
          "height": 200
        },
        "id": "omzAjbodQhz0",
        "outputId": "229ea59e-8a1d-42f8-d2a3-b04f852e99bb"
      },
      "id": "omzAjbodQhz0",
      "execution_count": 29,
      "outputs": [
        {
          "output_type": "error",
          "ename": "RuntimeError",
          "evalue": "ignored",
          "traceback": [
            "\u001b[0;31m---------------------------------------------------------------------------\u001b[0m",
            "\u001b[0;31mRuntimeError\u001b[0m                              Traceback (most recent call last)",
            "\u001b[0;32m<ipython-input-29-33bfa303c045>\u001b[0m in \u001b[0;36m<cell line: 1>\u001b[0;34m()\u001b[0m\n\u001b[1;32m      1\u001b[0m \u001b[0;32mfor\u001b[0m \u001b[0minput\u001b[0m\u001b[0;34m,\u001b[0m\u001b[0mlabel\u001b[0m \u001b[0;32min\u001b[0m \u001b[0mtrain_loader\u001b[0m\u001b[0;34m:\u001b[0m\u001b[0;34m\u001b[0m\u001b[0;34m\u001b[0m\u001b[0m\n\u001b[0;32m----> 2\u001b[0;31m   \u001b[0minput\u001b[0m \u001b[0;34m=\u001b[0m \u001b[0minput\u001b[0m\u001b[0;34m.\u001b[0m\u001b[0mto\u001b[0m\u001b[0;34m(\u001b[0m\u001b[0mdevice\u001b[0m\u001b[0;34m)\u001b[0m\u001b[0;34m\u001b[0m\u001b[0;34m\u001b[0m\u001b[0m\n\u001b[0m",
            "\u001b[0;31mRuntimeError\u001b[0m: CUDA error: device-side assert triggered\nCompile with `TORCH_USE_CUDA_DSA` to enable device-side assertions.\n"
          ]
        }
      ]
    },
    {
      "cell_type": "code",
      "source": [
        "a = torch.rand((4, 30483))"
      ],
      "metadata": {
        "id": "FEEojgbIRFtI"
      },
      "id": "FEEojgbIRFtI",
      "execution_count": 18,
      "outputs": []
    },
    {
      "cell_type": "code",
      "source": [
        "a = a.to(device)"
      ],
      "metadata": {
        "id": "_jCNrYbjX3uQ"
      },
      "id": "_jCNrYbjX3uQ",
      "execution_count": 19,
      "outputs": []
    },
    {
      "cell_type": "code",
      "source": [
        "input.shape"
      ],
      "metadata": {
        "colab": {
          "base_uri": "https://localhost:8080/"
        },
        "id": "UlYHlAbHX9V5",
        "outputId": "553cb70e-4a12-40c6-fd1c-b236aa639da4"
      },
      "id": "UlYHlAbHX9V5",
      "execution_count": 34,
      "outputs": [
        {
          "output_type": "execute_result",
          "data": {
            "text/plain": [
              "torch.Size([4, 30483])"
            ]
          },
          "metadata": {},
          "execution_count": 34
        }
      ]
    },
    {
      "cell_type": "code",
      "source": [],
      "metadata": {
        "id": "rlPimUZQYBar"
      },
      "id": "rlPimUZQYBar",
      "execution_count": null,
      "outputs": []
    }
  ],
  "metadata": {
    "kernelspec": {
      "display_name": "Python 3 (ipykernel)",
      "language": "python",
      "name": "python3"
    },
    "language_info": {
      "codemirror_mode": {
        "name": "ipython",
        "version": 3
      },
      "file_extension": ".py",
      "mimetype": "text/x-python",
      "name": "python",
      "nbconvert_exporter": "python",
      "pygments_lexer": "ipython3",
      "version": "3.9.16"
    },
    "colab": {
      "provenance": []
    },
    "accelerator": "GPU",
    "gpuClass": "standard"
  },
  "nbformat": 4,
  "nbformat_minor": 5
}