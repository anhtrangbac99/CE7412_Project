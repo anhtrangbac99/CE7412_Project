{
 "cells": [
  {
   "cell_type": "code",
   "execution_count": 2,
   "id": "391deeca",
   "metadata": {},
   "outputs": [],
   "source": [
    "import torch\n",
    "import torch.nn as nn\n",
    "from torch.utils.data import Dataset, DataLoader"
   ]
  },
  {
   "cell_type": "code",
   "execution_count": 3,
   "id": "10d26069",
   "metadata": {},
   "outputs": [],
   "source": [
    "import pandas as pd"
   ]
  },
  {
   "cell_type": "code",
   "execution_count": 4,
   "id": "91cc8ebf",
   "metadata": {},
   "outputs": [],
   "source": [
    "import os"
   ]
  },
  {
   "cell_type": "code",
   "execution_count": 22,
   "id": "f99470a9",
   "metadata": {},
   "outputs": [],
   "source": [
    "batch_size = 4\n",
    "device = 'cuda:0'"
   ]
  },
  {
   "cell_type": "markdown",
   "id": "94c0d113",
   "metadata": {},
   "source": [
    "# Conv + LSTM "
   ]
  },
  {
   "cell_type": "code",
   "execution_count": 6,
   "id": "cf2e7bb5",
   "metadata": {},
   "outputs": [],
   "source": [
    "class ConvLSTM(nn.Module):\n",
    "    def __init__(self, n_features, n_hidden, seq_len, n_layers):\n",
    "        super(ConvLSTM, self).__init__()\n",
    "        self.n_hidden = n_hidden\n",
    "        self.seq_len = seq_len\n",
    "        self.n_layers = n_layers\n",
    "        self.c1 = nn.Conv1d(in_channels=1, out_channels=1, kernel_size = 2, stride = 1) # Add a 1D CNN layer\n",
    "        self.lstm = nn.LSTM(\n",
    "            input_size=n_features,\n",
    "            hidden_size=n_hidden,\n",
    "            num_layers=n_layers\n",
    "        )\n",
    "        self.linear = nn.Linear(in_features=n_hidden, out_features=1)\n",
    "    def reset_hidden_state(self):\n",
    "        self.hidden = (\n",
    "            torch.zeros(self.n_layers, self.seq_len-1, self.n_hidden),\n",
    "            torch.zeros(self.n_layers, self.seq_len-1, self.n_hidden)\n",
    "        )\n",
    "    def forward(self, sequences):\n",
    "        sequences = self.c1(sequences.view(len(sequences), 1, -1))\n",
    "        self.hidden = self.reset_hidden_state()\n",
    "        lstm_out, self.hidden = self.lstm(\n",
    "            sequences.view(len(sequences), self.seq_len-1, -1),\n",
    "            self.hidden\n",
    "        )\n",
    "        last_time_step = lstm_out.view(self.seq_len-1, len(sequences), self.n_hidden)[-1]\n",
    "        y_pred = self.linear(last_time_step)\n",
    "        return y_pred"
   ]
  },
  {
   "cell_type": "markdown",
   "id": "2c0566ab",
   "metadata": {},
   "source": [
    "# Read Data"
   ]
  },
  {
   "cell_type": "code",
   "execution_count": 7,
   "id": "572549c2",
   "metadata": {},
   "outputs": [],
   "source": [
    "#train data\n",
    "virus_data = []\n",
    "for idx, file in enumerate(os.listdir('data/training/')):\n",
    "    array = pd.read_pickle(os.path.join('data/training',file))\n",
    "    for i in array:\n",
    "        virus_data.append([idx,i])\n",
    "\n",
    "#val data\n",
    "\n",
    "# virus_data_val = []\n",
    "# for idx, file in enumerate(os.listdir('data/validation/')):\n",
    "#     array = pd.read_pickle(os.path.join('data/validation',file))\n",
    "#     for i in array:\n",
    "#         virus_data_val.append([idx,i])"
   ]
  },
  {
   "cell_type": "code",
   "execution_count": 8,
   "id": "c79758ce",
   "metadata": {},
   "outputs": [],
   "source": [
    "max_len = max([len(i[1]) for i in virus_data])"
   ]
  },
  {
   "cell_type": "code",
   "execution_count": 9,
   "id": "46907d6b",
   "metadata": {},
   "outputs": [],
   "source": [
    "for idx,data in enumerate(virus_data):\n",
    "    virus_data[idx][1].extend([-1]*(max_len - len(virus_data[idx][1])))\n"
   ]
  },
  {
   "cell_type": "markdown",
   "id": "ec75020d",
   "metadata": {},
   "source": [
    "# Dataset"
   ]
  },
  {
   "cell_type": "code",
   "execution_count": 10,
   "id": "d2f4ba18",
   "metadata": {},
   "outputs": [],
   "source": [
    "class VirusDataset(Dataset):\n",
    "    def __init__(self,virus_data):\n",
    "        self.data = [i[1] for i in virus_data]\n",
    "        self.label = [i[0] for i in virus_data]\n",
    "    \n",
    "    def __len__(self):\n",
    "        return len(self.data)\n",
    "    \n",
    "    def __getitem__(self,idx):\n",
    "        return torch.Tensor(self.data[idx]),self.label[idx]"
   ]
  },
  {
   "cell_type": "code",
   "execution_count": 11,
   "id": "d881ceb5",
   "metadata": {},
   "outputs": [],
   "source": [
    "train_dataset = VirusDataset(virus_data)\n",
    "# val_dataset = VirusDataset(virus_data_val)"
   ]
  },
  {
   "cell_type": "code",
   "execution_count": 23,
   "id": "ab49adf7",
   "metadata": {},
   "outputs": [],
   "source": [
    "train_loader = DataLoader(train_dataset, batch_size=batch_size,shuffle=True)\n",
    "# val_loader = DataLoader(val_dataset, batch_size=batch_size,shuffle=True)"
   ]
  },
  {
   "cell_type": "markdown",
   "id": "2819c204",
   "metadata": {},
   "source": [
    "# Training"
   ]
  },
  {
   "cell_type": "code",
   "execution_count": 13,
   "id": "03478e44",
   "metadata": {},
   "outputs": [],
   "source": [
    "model = ConvLSTM(n_features = 1 , n_hidden = 64, seq_len = max_len, n_layers = 2)"
   ]
  },
  {
   "cell_type": "code",
   "execution_count": 14,
   "id": "a5a3a0c7",
   "metadata": {},
   "outputs": [
    {
     "data": {
      "text/plain": [
       "ConvLSTM(\n",
       "  (c1): Conv1d(1, 1, kernel_size=(2,), stride=(1,))\n",
       "  (lstm): LSTM(1, 64, num_layers=2)\n",
       "  (linear): Linear(in_features=64, out_features=1, bias=True)\n",
       ")"
      ]
     },
     "execution_count": 14,
     "metadata": {},
     "output_type": "execute_result"
    }
   ],
   "source": [
    "model.to(device)"
   ]
  },
  {
   "cell_type": "code",
   "execution_count": 15,
   "id": "7e5aca18",
   "metadata": {},
   "outputs": [],
   "source": [
    "learning_rate = 0.00001\n",
    "num_epochs = 20\n",
    "criterion = nn.BCELoss()\n",
    "optimizer = torch.optim.Adam(model.parameters(), lr=learning_rate)"
   ]
  },
  {
   "cell_type": "code",
   "execution_count": 20,
   "id": "91d7c735",
   "metadata": {},
   "outputs": [],
   "source": [
    "def train_epoch(model, dataloader, criterion, optimizer):\n",
    "    model.train()\n",
    "    running_loss = 0.0\n",
    "    correct = 0\n",
    "    total = 0\n",
    "\n",
    "    for batch_idx, (inputs, targets) in enumerate(dataloader):\n",
    "        inputs = inputs.to(device)\n",
    "        targets = targets.to(device).float()  # Convert targets to Float data type\n",
    "\n",
    "        # Forward pass\n",
    "        outputs = model(inputs).squeeze()\n",
    "#         outputs.squeeze()\n",
    "        loss = criterion(outputs, targets)\n",
    "\n",
    "        # Backward pass and optimization\n",
    "        optimizer.zero_grad()\n",
    "        loss.backward()\n",
    "        optimizer.step()\n",
    "        running_loss += loss.item()\n",
    "        total += targets.size(0)\n",
    "        correct += ((outputs > 0.5) == targets).sum().item()\n",
    "\n",
    "    return running_loss / (batch_idx + 1), correct / total"
   ]
  },
  {
   "cell_type": "code",
   "execution_count": 24,
   "id": "fab630eb",
   "metadata": {},
   "outputs": [
    {
     "ename": "RuntimeError",
     "evalue": "CUDA error: device-side assert triggered\nCUDA kernel errors might be asynchronously reported at some other API call, so the stacktrace below might be incorrect.\nFor debugging consider passing CUDA_LAUNCH_BLOCKING=1.\nCompile with `TORCH_USE_CUDA_DSA` to enable device-side assertions.\n",
     "output_type": "error",
     "traceback": [
      "\u001b[1;31m---------------------------------------------------------------------------\u001b[0m",
      "\u001b[1;31mRuntimeError\u001b[0m                              Traceback (most recent call last)",
      "Cell \u001b[1;32mIn[24], line 2\u001b[0m\n\u001b[0;32m      1\u001b[0m \u001b[38;5;28;01mfor\u001b[39;00m epoch \u001b[38;5;129;01min\u001b[39;00m \u001b[38;5;28mrange\u001b[39m(num_epochs):\n\u001b[1;32m----> 2\u001b[0m     train_loss, train_accuracy \u001b[38;5;241m=\u001b[39m \u001b[43mtrain_epoch\u001b[49m\u001b[43m(\u001b[49m\u001b[43mmodel\u001b[49m\u001b[43m,\u001b[49m\u001b[43m \u001b[49m\u001b[43mtrain_loader\u001b[49m\u001b[43m,\u001b[49m\u001b[43m \u001b[49m\u001b[43mcriterion\u001b[49m\u001b[43m,\u001b[49m\u001b[43m \u001b[49m\u001b[43moptimizer\u001b[49m\u001b[43m)\u001b[49m\n\u001b[0;32m      3\u001b[0m     \u001b[38;5;28mprint\u001b[39m(\u001b[38;5;124mf\u001b[39m\u001b[38;5;124m\"\u001b[39m\u001b[38;5;124mEpoch [\u001b[39m\u001b[38;5;132;01m{\u001b[39;00mepoch \u001b[38;5;241m+\u001b[39m \u001b[38;5;241m1\u001b[39m\u001b[38;5;132;01m}\u001b[39;00m\u001b[38;5;124m/\u001b[39m\u001b[38;5;132;01m{\u001b[39;00mnum_epochs\u001b[38;5;132;01m}\u001b[39;00m\u001b[38;5;124m], Loss: \u001b[39m\u001b[38;5;132;01m{\u001b[39;00mtrain_loss\u001b[38;5;132;01m:\u001b[39;00m\u001b[38;5;124m.4f\u001b[39m\u001b[38;5;132;01m}\u001b[39;00m\u001b[38;5;124m\"\u001b[39m)\n",
      "Cell \u001b[1;32mIn[20], line 8\u001b[0m, in \u001b[0;36mtrain_epoch\u001b[1;34m(model, dataloader, criterion, optimizer)\u001b[0m\n\u001b[0;32m      5\u001b[0m total \u001b[38;5;241m=\u001b[39m \u001b[38;5;241m0\u001b[39m\n\u001b[0;32m      7\u001b[0m \u001b[38;5;28;01mfor\u001b[39;00m batch_idx, (inputs, targets) \u001b[38;5;129;01min\u001b[39;00m \u001b[38;5;28menumerate\u001b[39m(dataloader):\n\u001b[1;32m----> 8\u001b[0m     inputs \u001b[38;5;241m=\u001b[39m \u001b[43minputs\u001b[49m\u001b[38;5;241;43m.\u001b[39;49m\u001b[43mto\u001b[49m\u001b[43m(\u001b[49m\u001b[43mdevice\u001b[49m\u001b[43m)\u001b[49m\n\u001b[0;32m      9\u001b[0m     targets \u001b[38;5;241m=\u001b[39m targets\u001b[38;5;241m.\u001b[39mto(device)\u001b[38;5;241m.\u001b[39mfloat()  \u001b[38;5;66;03m# Convert targets to Float data type\u001b[39;00m\n\u001b[0;32m     11\u001b[0m     \u001b[38;5;66;03m# Forward pass\u001b[39;00m\n",
      "\u001b[1;31mRuntimeError\u001b[0m: CUDA error: device-side assert triggered\nCUDA kernel errors might be asynchronously reported at some other API call, so the stacktrace below might be incorrect.\nFor debugging consider passing CUDA_LAUNCH_BLOCKING=1.\nCompile with `TORCH_USE_CUDA_DSA` to enable device-side assertions.\n"
     ]
    }
   ],
   "source": [
    "for epoch in range(num_epochs):\n",
    "    train_loss, train_accuracy = train_epoch(model, train_loader, criterion, optimizer)\n",
    "    print(f\"Epoch [{epoch + 1}/{num_epochs}], Loss: {train_loss:.4f}\")"
   ]
  },
  {
   "cell_type": "code",
   "execution_count": null,
   "id": "317c2ae0",
   "metadata": {},
   "outputs": [],
   "source": []
  }
 ],
 "metadata": {
  "kernelspec": {
   "display_name": "Python 3 (ipykernel)",
   "language": "python",
   "name": "python3"
  },
  "language_info": {
   "codemirror_mode": {
    "name": "ipython",
    "version": 3
   },
   "file_extension": ".py",
   "mimetype": "text/x-python",
   "name": "python",
   "nbconvert_exporter": "python",
   "pygments_lexer": "ipython3",
   "version": "3.9.16"
  }
 },
 "nbformat": 4,
 "nbformat_minor": 5
}
